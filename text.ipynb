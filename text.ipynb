{
 "cells": [
  {
   "cell_type": "code",
   "execution_count": 2,
   "id": "69b5f4ec",
   "metadata": {},
   "outputs": [
    {
     "name": "stdout",
     "output_type": "stream",
     "text": [
      "Неизвестно\n"
     ]
    }
   ],
   "source": [
    "from geopy.geocoders import Nominatim\n",
    "from geopy.exc import GeocoderTimedOut\n",
    "import time\n",
    "\n",
    "def get_region_by_city(city, retries=3):\n",
    "    geolocator = Nominatim(user_agent=\"city_to_region\")\n",
    "    for i in range(retries):\n",
    "        try:\n",
    "            location = geolocator.geocode(f\"{city}, Россия\", language='ru', timeout=10)\n",
    "            if location:\n",
    "                address = location.raw.get('address', {})\n",
    "                return address.get('state') or address.get('region') or address.get('county') or 'Неизвестно'\n",
    "        except GeocoderTimedOut:\n",
    "            time.sleep(1)\n",
    "    return 'Неизвестно'\n",
    "\n",
    "print(get_region_by_city(\"Москва\"))"
   ]
  },
  {
   "cell_type": "code",
   "execution_count": 4,
   "id": "47b6662c",
   "metadata": {},
   "outputs": [
    {
     "name": "stdout",
     "output_type": "stream",
     "text": [
      "Ошибка запроса\n"
     ]
    }
   ],
   "source": [
    "import requests\n",
    "\n",
    "YANDEX_API_KEY = 'b7f32673-76b3-427b-bed1-507649217c35'\n",
    "\n",
    "def get_region_yandex(city):\n",
    "    url = \"https://geocode-maps.yandex.ru/v1/\"\n",
    "    params = {\n",
    "        \"apikey\": YANDEX_API_KEY,\n",
    "        \"geocode\": city,\n",
    "        \"format\": \"json\",\n",
    "        \"lang\": \"ru_RU\",\n",
    "        \"results\": 1\n",
    "    }\n",
    "\n",
    "    response = requests.get(url, params=params)\n",
    "    if response.status_code == 200:\n",
    "        try:\n",
    "            geo_object = response.json()[\"response\"][\"GeoObjectCollection\"][\"featureMember\"][0][\"GeoObject\"]\n",
    "            components = geo_object[\"metaDataProperty\"][\"GeocoderMetaData\"][\"Address\"][\"Components\"]\n",
    "            for c in components:\n",
    "                if c[\"kind\"] in [\"province\", \"area\"]:\n",
    "                    return c[\"name\"]\n",
    "        except (IndexError, KeyError):\n",
    "            return \"Неизвестно\"\n",
    "    return \"Ошибка запроса\"\n",
    "\n",
    "print(get_region_yandex(\"Новосибирск\"))"
   ]
  },
  {
   "cell_type": "code",
   "execution_count": 9,
   "id": "69ef431f",
   "metadata": {},
   "outputs": [],
   "source": [
    "url = \"https://geocode-maps.yandex.ru/v1\"\n",
    "params = {\n",
    "    \"apikey\": 'b7f32673-76b3-427b-bed1-507649217c35',\n",
    "    \"geocode\": 'Москва',\n",
    "    \"format\": \"json\",\n",
    "    \"lang\": \"ru_RU\",\n",
    "    \"results\": 1\n",
    "}\n",
    "\n",
    "response = requests.get(url, params=params)\n"
   ]
  },
  {
   "cell_type": "code",
   "execution_count": 10,
   "id": "b231a4f8",
   "metadata": {},
   "outputs": [
    {
     "data": {
      "text/plain": [
       "<Response [403]>"
      ]
     },
     "execution_count": 10,
     "metadata": {},
     "output_type": "execute_result"
    }
   ],
   "source": [
    "response"
   ]
  },
  {
   "cell_type": "code",
   "execution_count": null,
   "id": "ddd6e9e0",
   "metadata": {},
   "outputs": [],
   "source": []
  }
 ],
 "metadata": {
  "kernelspec": {
   "display_name": "Python 3",
   "language": "python",
   "name": "python3"
  },
  "language_info": {
   "codemirror_mode": {
    "name": "ipython",
    "version": 3
   },
   "file_extension": ".py",
   "mimetype": "text/x-python",
   "name": "python",
   "nbconvert_exporter": "python",
   "pygments_lexer": "ipython3",
   "version": "3.13.2"
  }
 },
 "nbformat": 4,
 "nbformat_minor": 5
}
